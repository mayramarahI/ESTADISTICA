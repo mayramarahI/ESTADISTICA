{
 "cells": [
  {
   "cell_type": "markdown",
   "metadata": {},
   "source": [
    "## CALCULAR CON RANGO DE SIGNIFICANCIA"
   ]
  },
  {
   "cell_type": "code",
   "execution_count": 1,
   "metadata": {},
   "outputs": [],
   "source": [
    "datos <- read.csv(\"ENARM_2019.csv\")"
   ]
  },
  {
   "cell_type": "code",
   "execution_count": 2,
   "metadata": {},
   "outputs": [
    {
     "data": {
      "text/html": [
       "<table>\n",
       "<thead><tr><th scope=col>ENTIDAD</th><th scope=col>ESCUELA</th><th scope=col>SUSTENTANTES</th><th scope=col>SELECCIONADOS</th><th scope=col>PROMEDIO.CALIFICACION</th></tr></thead>\n",
       "<tbody>\n",
       "\t<tr><td>AGUASCALIENTES                                 </td><td>UNIV. AUT. DE AGUASCALIENTES                   </td><td>277                                            </td><td>122                                            </td><td>66.781                                         </td></tr>\n",
       "\t<tr><td>AGUASCALIENTES                                 </td><td>UNIV. CUAUHTEMOC - CAMPUS AGUASCALIENTES       </td><td> 63                                            </td><td> 21                                            </td><td>62.571                                         </td></tr>\n",
       "\t<tr><td>BAJA CALIFORNIA                                </td><td>CENTRO EST. UNIV. XOCHICALCO, U. ENSENADA      </td><td>237                                            </td><td> 38                                            </td><td>58.180                                         </td></tr>\n",
       "\t<tr><td>BAJA CALIFORNIA                                </td><td>CENTRO EST. UNIV. XOCHICALCO, U. TIJUANA       </td><td>175                                            </td><td> 29                                            </td><td>61.482                                         </td></tr>\n",
       "\t<tr><td>BAJA CALIFORNIA                                </td><td>UNIV. AUT. DE B.C. - CAMPUS VALLE DE LAS PALMAS</td><td>182                                            </td><td> 37                                            </td><td>61.430                                         </td></tr>\n",
       "\t<tr><td>BAJA CALIFORNIA                                </td><td>UNIV. AUT. DE B.C., U. ENSENADA                </td><td>219                                            </td><td> 52                                            </td><td>61.996                                         </td></tr>\n",
       "</tbody>\n",
       "</table>\n"
      ],
      "text/latex": [
       "\\begin{tabular}{r|lllll}\n",
       " ENTIDAD & ESCUELA & SUSTENTANTES & SELECCIONADOS & PROMEDIO.CALIFICACION\\\\\n",
       "\\hline\n",
       "\t AGUASCALIENTES                                  & UNIV. AUT. DE AGUASCALIENTES                    & 277                                             & 122                                             & 66.781                                         \\\\\n",
       "\t AGUASCALIENTES                                  & UNIV. CUAUHTEMOC - CAMPUS AGUASCALIENTES        &  63                                             &  21                                             & 62.571                                         \\\\\n",
       "\t BAJA CALIFORNIA                                 & CENTRO EST. UNIV. XOCHICALCO, U. ENSENADA       & 237                                             &  38                                             & 58.180                                         \\\\\n",
       "\t BAJA CALIFORNIA                                 & CENTRO EST. UNIV. XOCHICALCO, U. TIJUANA        & 175                                             &  29                                             & 61.482                                         \\\\\n",
       "\t BAJA CALIFORNIA                                 & UNIV. AUT. DE B.C. - CAMPUS VALLE DE LAS PALMAS & 182                                             &  37                                             & 61.430                                         \\\\\n",
       "\t BAJA CALIFORNIA                                 & UNIV. AUT. DE B.C., U. ENSENADA                 & 219                                             &  52                                             & 61.996                                         \\\\\n",
       "\\end{tabular}\n"
      ],
      "text/markdown": [
       "\n",
       "| ENTIDAD | ESCUELA | SUSTENTANTES | SELECCIONADOS | PROMEDIO.CALIFICACION |\n",
       "|---|---|---|---|---|\n",
       "| AGUASCALIENTES                                  | UNIV. AUT. DE AGUASCALIENTES                    | 277                                             | 122                                             | 66.781                                          |\n",
       "| AGUASCALIENTES                                  | UNIV. CUAUHTEMOC - CAMPUS AGUASCALIENTES        |  63                                             |  21                                             | 62.571                                          |\n",
       "| BAJA CALIFORNIA                                 | CENTRO EST. UNIV. XOCHICALCO, U. ENSENADA       | 237                                             |  38                                             | 58.180                                          |\n",
       "| BAJA CALIFORNIA                                 | CENTRO EST. UNIV. XOCHICALCO, U. TIJUANA        | 175                                             |  29                                             | 61.482                                          |\n",
       "| BAJA CALIFORNIA                                 | UNIV. AUT. DE B.C. - CAMPUS VALLE DE LAS PALMAS | 182                                             |  37                                             | 61.430                                          |\n",
       "| BAJA CALIFORNIA                                 | UNIV. AUT. DE B.C., U. ENSENADA                 | 219                                             |  52                                             | 61.996                                          |\n",
       "\n"
      ],
      "text/plain": [
       "  ENTIDAD         ESCUELA                                         SUSTENTANTES\n",
       "1 AGUASCALIENTES  UNIV. AUT. DE AGUASCALIENTES                    277         \n",
       "2 AGUASCALIENTES  UNIV. CUAUHTEMOC - CAMPUS AGUASCALIENTES         63         \n",
       "3 BAJA CALIFORNIA CENTRO EST. UNIV. XOCHICALCO, U. ENSENADA       237         \n",
       "4 BAJA CALIFORNIA CENTRO EST. UNIV. XOCHICALCO, U. TIJUANA        175         \n",
       "5 BAJA CALIFORNIA UNIV. AUT. DE B.C. - CAMPUS VALLE DE LAS PALMAS 182         \n",
       "6 BAJA CALIFORNIA UNIV. AUT. DE B.C., U. ENSENADA                 219         \n",
       "  SELECCIONADOS PROMEDIO.CALIFICACION\n",
       "1 122           66.781               \n",
       "2  21           62.571               \n",
       "3  38           58.180               \n",
       "4  29           61.482               \n",
       "5  37           61.430               \n",
       "6  52           61.996               "
      ]
     },
     "metadata": {},
     "output_type": "display_data"
    }
   ],
   "source": [
    "head(datos)"
   ]
  },
  {
   "cell_type": "code",
   "execution_count": 3,
   "metadata": {},
   "outputs": [],
   "source": [
    "enarm <- read.csv(\"EnarmMCH.csv\")"
   ]
  },
  {
   "cell_type": "code",
   "execution_count": 4,
   "metadata": {},
   "outputs": [
    {
     "data": {
      "text/html": [
       "<table>\n",
       "<thead><tr><th scope=col>ï..ENTIDAD.FEDERATIVA</th><th scope=col>FACULTAD.O.ESCUELA.DE.MEDICINA</th><th scope=col>SUSTENTANTES</th><th scope=col>SELECCIONADOS</th><th scope=col>PROMEDIO.GENERAL</th><th scope=col>AGNO</th></tr></thead>\n",
       "<tbody>\n",
       "\t<tr><td>AGUASCALIENTES                                                    </td><td>UNIVERSIDAD AUTONOMA DE AGUASCALIENTES                            </td><td>239                                                               </td><td>84                                                                </td><td>67.52                                                             </td><td>2017                                                              </td></tr>\n",
       "\t<tr><td>AGUASCALIENTES                                                    </td><td>UNIVERSIDAD CUAUHTEMOC PLANTEL AGUASCALIENTES                     </td><td> 72                                                               </td><td> 9                                                                </td><td>63.81                                                             </td><td>2017                                                              </td></tr>\n",
       "\t<tr><td>BAJA CALIFORNIA                                                   </td><td>CENTRO DE ESTUDIOS UNIVERSITARIOS XOCHICALCO UNIDAD ENSENADA      </td><td>247                                                               </td><td>48                                                                </td><td>61.16                                                             </td><td>2017                                                              </td></tr>\n",
       "\t<tr><td>BAJA CALIFORNIA                                                   </td><td>CENTRO DE ESTUDIOS UNIVERSITARIOS XOCHICALCO UNIDAD TIJUANA       </td><td>152                                                               </td><td>30                                                                </td><td>62.48                                                             </td><td>2017                                                              </td></tr>\n",
       "\t<tr><td>BAJA CALIFORNIA                                                   </td><td>UNIVERSIDAD AUTONOMA DE BAJA CALIFORNIA UNIDAD VALLE DE LAS PALMAS</td><td>135                                                               </td><td>16                                                                </td><td>62.70                                                             </td><td>2017                                                              </td></tr>\n",
       "\t<tr><td>BAJA CALIFORNIA                                                   </td><td>UNIVERSIDAD AUTONOMA DE BAJA CALIFORNIA UNIDAD ENSENADA           </td><td>188                                                               </td><td>55                                                                </td><td>64.88                                                             </td><td>2017                                                              </td></tr>\n",
       "</tbody>\n",
       "</table>\n"
      ],
      "text/latex": [
       "\\begin{tabular}{r|llllll}\n",
       " ï..ENTIDAD.FEDERATIVA & FACULTAD.O.ESCUELA.DE.MEDICINA & SUSTENTANTES & SELECCIONADOS & PROMEDIO.GENERAL & AGNO\\\\\n",
       "\\hline\n",
       "\t AGUASCALIENTES                                                     & UNIVERSIDAD AUTONOMA DE AGUASCALIENTES                             & 239                                                                & 84                                                                 & 67.52                                                              & 2017                                                              \\\\\n",
       "\t AGUASCALIENTES                                                     & UNIVERSIDAD CUAUHTEMOC PLANTEL AGUASCALIENTES                      &  72                                                                &  9                                                                 & 63.81                                                              & 2017                                                              \\\\\n",
       "\t BAJA CALIFORNIA                                                    & CENTRO DE ESTUDIOS UNIVERSITARIOS XOCHICALCO UNIDAD ENSENADA       & 247                                                                & 48                                                                 & 61.16                                                              & 2017                                                              \\\\\n",
       "\t BAJA CALIFORNIA                                                    & CENTRO DE ESTUDIOS UNIVERSITARIOS XOCHICALCO UNIDAD TIJUANA        & 152                                                                & 30                                                                 & 62.48                                                              & 2017                                                              \\\\\n",
       "\t BAJA CALIFORNIA                                                    & UNIVERSIDAD AUTONOMA DE BAJA CALIFORNIA UNIDAD VALLE DE LAS PALMAS & 135                                                                & 16                                                                 & 62.70                                                              & 2017                                                              \\\\\n",
       "\t BAJA CALIFORNIA                                                    & UNIVERSIDAD AUTONOMA DE BAJA CALIFORNIA UNIDAD ENSENADA            & 188                                                                & 55                                                                 & 64.88                                                              & 2017                                                              \\\\\n",
       "\\end{tabular}\n"
      ],
      "text/markdown": [
       "\n",
       "| ï..ENTIDAD.FEDERATIVA | FACULTAD.O.ESCUELA.DE.MEDICINA | SUSTENTANTES | SELECCIONADOS | PROMEDIO.GENERAL | AGNO |\n",
       "|---|---|---|---|---|---|\n",
       "| AGUASCALIENTES                                                     | UNIVERSIDAD AUTONOMA DE AGUASCALIENTES                             | 239                                                                | 84                                                                 | 67.52                                                              | 2017                                                               |\n",
       "| AGUASCALIENTES                                                     | UNIVERSIDAD CUAUHTEMOC PLANTEL AGUASCALIENTES                      |  72                                                                |  9                                                                 | 63.81                                                              | 2017                                                               |\n",
       "| BAJA CALIFORNIA                                                    | CENTRO DE ESTUDIOS UNIVERSITARIOS XOCHICALCO UNIDAD ENSENADA       | 247                                                                | 48                                                                 | 61.16                                                              | 2017                                                               |\n",
       "| BAJA CALIFORNIA                                                    | CENTRO DE ESTUDIOS UNIVERSITARIOS XOCHICALCO UNIDAD TIJUANA        | 152                                                                | 30                                                                 | 62.48                                                              | 2017                                                               |\n",
       "| BAJA CALIFORNIA                                                    | UNIVERSIDAD AUTONOMA DE BAJA CALIFORNIA UNIDAD VALLE DE LAS PALMAS | 135                                                                | 16                                                                 | 62.70                                                              | 2017                                                               |\n",
       "| BAJA CALIFORNIA                                                    | UNIVERSIDAD AUTONOMA DE BAJA CALIFORNIA UNIDAD ENSENADA            | 188                                                                | 55                                                                 | 64.88                                                              | 2017                                                               |\n",
       "\n"
      ],
      "text/plain": [
       "  ï..ENTIDAD.FEDERATIVA\n",
       "1 AGUASCALIENTES       \n",
       "2 AGUASCALIENTES       \n",
       "3 BAJA CALIFORNIA      \n",
       "4 BAJA CALIFORNIA      \n",
       "5 BAJA CALIFORNIA      \n",
       "6 BAJA CALIFORNIA      \n",
       "  FACULTAD.O.ESCUELA.DE.MEDICINA                                    \n",
       "1 UNIVERSIDAD AUTONOMA DE AGUASCALIENTES                            \n",
       "2 UNIVERSIDAD CUAUHTEMOC PLANTEL AGUASCALIENTES                     \n",
       "3 CENTRO DE ESTUDIOS UNIVERSITARIOS XOCHICALCO UNIDAD ENSENADA      \n",
       "4 CENTRO DE ESTUDIOS UNIVERSITARIOS XOCHICALCO UNIDAD TIJUANA       \n",
       "5 UNIVERSIDAD AUTONOMA DE BAJA CALIFORNIA UNIDAD VALLE DE LAS PALMAS\n",
       "6 UNIVERSIDAD AUTONOMA DE BAJA CALIFORNIA UNIDAD ENSENADA           \n",
       "  SUSTENTANTES SELECCIONADOS PROMEDIO.GENERAL AGNO\n",
       "1 239          84            67.52            2017\n",
       "2  72           9            63.81            2017\n",
       "3 247          48            61.16            2017\n",
       "4 152          30            62.48            2017\n",
       "5 135          16            62.70            2017\n",
       "6 188          55            64.88            2017"
      ]
     },
     "metadata": {},
     "output_type": "display_data"
    }
   ],
   "source": [
    "head(enarm)"
   ]
  },
  {
   "cell_type": "code",
   "execution_count": 5,
   "metadata": {},
   "outputs": [],
   "source": [
    "efi <- enarm$SELECCIONADOS / enarm$SUSTENTANTES"
   ]
  },
  {
   "cell_type": "code",
   "execution_count": 6,
   "metadata": {},
   "outputs": [
    {
     "data": {
      "text/html": [
       "<ol class=list-inline>\n",
       "\t<li>0.351464435146443</li>\n",
       "\t<li>0.125</li>\n",
       "\t<li>0.194331983805668</li>\n",
       "\t<li>0.197368421052632</li>\n",
       "\t<li>0.118518518518519</li>\n",
       "\t<li>0.292553191489362</li>\n",
       "</ol>\n"
      ],
      "text/latex": [
       "\\begin{enumerate*}\n",
       "\\item 0.351464435146443\n",
       "\\item 0.125\n",
       "\\item 0.194331983805668\n",
       "\\item 0.197368421052632\n",
       "\\item 0.118518518518519\n",
       "\\item 0.292553191489362\n",
       "\\end{enumerate*}\n"
      ],
      "text/markdown": [
       "1. 0.351464435146443\n",
       "2. 0.125\n",
       "3. 0.194331983805668\n",
       "4. 0.197368421052632\n",
       "5. 0.118518518518519\n",
       "6. 0.292553191489362\n",
       "\n",
       "\n"
      ],
      "text/plain": [
       "[1] 0.3514644 0.1250000 0.1943320 0.1973684 0.1185185 0.2925532"
      ]
     },
     "metadata": {},
     "output_type": "display_data"
    }
   ],
   "source": [
    "head (efi)"
   ]
  },
  {
   "cell_type": "code",
   "execution_count": 7,
   "metadata": {
    "scrolled": true
   },
   "outputs": [
    {
     "data": {
      "image/png": "[encoded data removed]",
      "text/plain": [
       "Plot with title \"Frecuencia de Eficiencias del ENARM\""
      ]
     },
     "metadata": {},
     "output_type": "display_data"
    }
   ],
   "source": [
    "options(repr.plot.width=12,repr.plot.height=12/1.61803)\n",
    "hist (efi, main=\"Frecuencia de Eficiencias del ENARM\",\n",
    "      col=\"purple\", border=\"pink\", labels=T, xlab=\"Eficiencia\", ylab=\"FRECUENCIAS\",ylim=c(0,500))"
   ]
  },
  {
   "cell_type": "code",
   "execution_count": 8,
   "metadata": {},
   "outputs": [],
   "source": [
    "efi1 <- datos$SELECCIONADOS / datos$SUSTENTANTES"
   ]
  },
  {
   "cell_type": "code",
   "execution_count": 9,
   "metadata": {},
   "outputs": [
    {
     "data": {
      "text/html": [
       "<ol class=list-inline>\n",
       "\t<li>0.44043321299639</li>\n",
       "\t<li>0.333333333333333</li>\n",
       "\t<li>0.160337552742616</li>\n",
       "\t<li>0.165714285714286</li>\n",
       "\t<li>0.203296703296703</li>\n",
       "\t<li>0.237442922374429</li>\n",
       "</ol>\n"
      ],
      "text/latex": [
       "\\begin{enumerate*}\n",
       "\\item 0.44043321299639\n",
       "\\item 0.333333333333333\n",
       "\\item 0.160337552742616\n",
       "\\item 0.165714285714286\n",
       "\\item 0.203296703296703\n",
       "\\item 0.237442922374429\n",
       "\\end{enumerate*}\n"
      ],
      "text/markdown": [
       "1. 0.44043321299639\n",
       "2. 0.333333333333333\n",
       "3. 0.160337552742616\n",
       "4. 0.165714285714286\n",
       "5. 0.203296703296703\n",
       "6. 0.237442922374429\n",
       "\n",
       "\n"
      ],
      "text/plain": [
       "[1] 0.4404332 0.3333333 0.1603376 0.1657143 0.2032967 0.2374429"
      ]
     },
     "metadata": {},
     "output_type": "display_data"
    }
   ],
   "source": [
    "head (efi1)"
   ]
  },
  {
   "cell_type": "code",
   "execution_count": 10,
   "metadata": {},
   "outputs": [
    {
     "data": {
      "image/png": "[encoded data removed]",
      "text/plain": [
       "Plot with title \"Frecuencia de eficiencias de en el ENARM_2019\""
      ]
     },
     "metadata": {},
     "output_type": "display_data"
    }
   ],
   "source": [
    "hist (efi1, main=\"Frecuencia de eficiencias de en el ENARM_2019\",\n",
    "      col=\"pink\", border=\"purple\", labels=T, xlab=\"EFICIENCIA1\", ylab=\"FRECUENCIAS\",ylim=c(0,50),xlim=c(0,1)\n",
    "      )"
   ]
  },
  {
   "cell_type": "markdown",
   "metadata": {},
   "source": [
    "## CALCULANDO EL INTERVALO DE SIGNIFICANCIA  2018"
   ]
  },
  {
   "cell_type": "markdown",
   "metadata": {},
   "source": [
    "$$ rango = \\mu \\pm 2\\sigma $$"
   ]
  },
  {
   "cell_type": "code",
   "execution_count": 11,
   "metadata": {},
   "outputs": [],
   "source": [
    "media <- mean (efi, na.rm = T)"
   ]
  },
  {
   "cell_type": "code",
   "execution_count": 12,
   "metadata": {},
   "outputs": [],
   "source": [
    "dv <- sd(efi, na.rm = T)"
   ]
  },
  {
   "cell_type": "code",
   "execution_count": 13,
   "metadata": {},
   "outputs": [
    {
     "data": {
      "text/html": [
       "0.302025720241098"
      ],
      "text/latex": [
       "0.302025720241098"
      ],
      "text/markdown": [
       "0.302025720241098"
      ],
      "text/plain": [
       "[1] 0.3020257"
      ]
     },
     "metadata": {},
     "output_type": "display_data"
    }
   ],
   "source": [
    "2*dv"
   ]
  },
  {
   "cell_type": "code",
   "execution_count": 14,
   "metadata": {},
   "outputs": [
    {
     "data": {
      "text/html": [
       "0.544627235554998"
      ],
      "text/latex": [
       "0.544627235554998"
      ],
      "text/markdown": [
       "0.544627235554998"
      ],
      "text/plain": [
       "[1] 0.5446272"
      ]
     },
     "metadata": {},
     "output_type": "display_data"
    }
   ],
   "source": [
    "media+(2*dv)"
   ]
  },
  {
   "cell_type": "code",
   "execution_count": 15,
   "metadata": {},
   "outputs": [
    {
     "data": {
      "text/html": [
       "-0.0594242049271987"
      ],
      "text/latex": [
       "-0.0594242049271987"
      ],
      "text/markdown": [
       "-0.0594242049271987"
      ],
      "text/plain": [
       "[1] -0.0594242"
      ]
     },
     "metadata": {},
     "output_type": "display_data"
    }
   ],
   "source": [
    "media-(2*dv)"
   ]
  },
  {
   "cell_type": "markdown",
   "metadata": {},
   "source": [
    "## CALCULANDO la media de las efi_2019"
   ]
  },
  {
   "cell_type": "code",
   "execution_count": 16,
   "metadata": {},
   "outputs": [
    {
     "data": {
      "text/html": [
       "0.213455526877338"
      ],
      "text/latex": [
       "0.213455526877338"
      ],
      "text/markdown": [
       "0.213455526877338"
      ],
      "text/plain": [
       "[1] 0.2134555"
      ]
     },
     "metadata": {},
     "output_type": "display_data"
    }
   ],
   "source": [
    "mean (efi1, na.rm = T)"
   ]
  },
  {
   "cell_type": "markdown",
   "metadata": {},
   "source": [
    "## Esta  dentro del rango de significancia por lo tanto podemos decir que no esta cuchareado "
   ]
  },
  {
   "cell_type": "markdown",
   "metadata": {},
   "source": [
    "# Fin"
   ]
  }
 ],
 "metadata": {
  "kernelspec": {
   "display_name": "R",
   "language": "R",
   "name": "ir"
  },
  "language_info": {
   "codemirror_mode": "r",
   "file_extension": ".r",
   "mimetype": "text/x-r-source",
   "name": "R",
   "pygments_lexer": "r",
   "version": "3.6.1"
  }
 },
 "nbformat": 4,
 "nbformat_minor": 2
}
