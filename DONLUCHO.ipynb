{
 "cells": [
  {
   "cell_type": "markdown",
   "metadata": {},
   "source": [
    "# DON LUCHO"
   ]
  },
  {
   "cell_type": "markdown",
   "metadata": {},
   "source": [
    "## CARGA DE UN CSV"
   ]
  },
  {
   "cell_type": "code",
   "execution_count": 1,
   "metadata": {},
   "outputs": [],
   "source": [
    "datos <- read.csv(\"EnarmMCH.csv\")"
   ]
  },
  {
   "cell_type": "code",
   "execution_count": 2,
   "metadata": {},
   "outputs": [
    {
     "data": {
      "text/html": [
       "<table>\n",
       "<thead><tr><th scope=col>ï..ENTIDAD.FEDERATIVA</th><th scope=col>FACULTAD.O.ESCUELA.DE.MEDICINA</th><th scope=col>SUSTENTANTES</th><th scope=col>SELECCIONADOS</th><th scope=col>PROMEDIO.GENERAL</th><th scope=col>AGNO</th></tr></thead>\n",
       "<tbody>\n",
       "\t<tr><td>AGUASCALIENTES                                                    </td><td>UNIVERSIDAD AUTONOMA DE AGUASCALIENTES                            </td><td>239                                                               </td><td>84                                                                </td><td>67.52                                                             </td><td>2017                                                              </td></tr>\n",
       "\t<tr><td>AGUASCALIENTES                                                    </td><td>UNIVERSIDAD CUAUHTEMOC PLANTEL AGUASCALIENTES                     </td><td> 72                                                               </td><td> 9                                                                </td><td>63.81                                                             </td><td>2017                                                              </td></tr>\n",
       "\t<tr><td>BAJA CALIFORNIA                                                   </td><td>CENTRO DE ESTUDIOS UNIVERSITARIOS XOCHICALCO UNIDAD ENSENADA      </td><td>247                                                               </td><td>48                                                                </td><td>61.16                                                             </td><td>2017                                                              </td></tr>\n",
       "\t<tr><td>BAJA CALIFORNIA                                                   </td><td>CENTRO DE ESTUDIOS UNIVERSITARIOS XOCHICALCO UNIDAD TIJUANA       </td><td>152                                                               </td><td>30                                                                </td><td>62.48                                                             </td><td>2017                                                              </td></tr>\n",
       "\t<tr><td>BAJA CALIFORNIA                                                   </td><td>UNIVERSIDAD AUTONOMA DE BAJA CALIFORNIA UNIDAD VALLE DE LAS PALMAS</td><td>135                                                               </td><td>16                                                                </td><td>62.70                                                             </td><td>2017                                                              </td></tr>\n",
       "\t<tr><td>BAJA CALIFORNIA                                                   </td><td>UNIVERSIDAD AUTONOMA DE BAJA CALIFORNIA UNIDAD ENSENADA           </td><td>188                                                               </td><td>55                                                                </td><td>64.88                                                             </td><td>2017                                                              </td></tr>\n",
       "</tbody>\n",
       "</table>\n"
      ],
      "text/latex": [
       "\\begin{tabular}{r|llllll}\n",
       " ï..ENTIDAD.FEDERATIVA & FACULTAD.O.ESCUELA.DE.MEDICINA & SUSTENTANTES & SELECCIONADOS & PROMEDIO.GENERAL & AGNO\\\\\n",
       "\\hline\n",
       "\t AGUASCALIENTES                                                     & UNIVERSIDAD AUTONOMA DE AGUASCALIENTES                             & 239                                                                & 84                                                                 & 67.52                                                              & 2017                                                              \\\\\n",
       "\t AGUASCALIENTES                                                     & UNIVERSIDAD CUAUHTEMOC PLANTEL AGUASCALIENTES                      &  72                                                                &  9                                                                 & 63.81                                                              & 2017                                                              \\\\\n",
       "\t BAJA CALIFORNIA                                                    & CENTRO DE ESTUDIOS UNIVERSITARIOS XOCHICALCO UNIDAD ENSENADA       & 247                                                                & 48                                                                 & 61.16                                                              & 2017                                                              \\\\\n",
       "\t BAJA CALIFORNIA                                                    & CENTRO DE ESTUDIOS UNIVERSITARIOS XOCHICALCO UNIDAD TIJUANA        & 152                                                                & 30                                                                 & 62.48                                                              & 2017                                                              \\\\\n",
       "\t BAJA CALIFORNIA                                                    & UNIVERSIDAD AUTONOMA DE BAJA CALIFORNIA UNIDAD VALLE DE LAS PALMAS & 135                                                                & 16                                                                 & 62.70                                                              & 2017                                                              \\\\\n",
       "\t BAJA CALIFORNIA                                                    & UNIVERSIDAD AUTONOMA DE BAJA CALIFORNIA UNIDAD ENSENADA            & 188                                                                & 55                                                                 & 64.88                                                              & 2017                                                              \\\\\n",
       "\\end{tabular}\n"
      ],
      "text/markdown": [
       "\n",
       "| ï..ENTIDAD.FEDERATIVA | FACULTAD.O.ESCUELA.DE.MEDICINA | SUSTENTANTES | SELECCIONADOS | PROMEDIO.GENERAL | AGNO |\n",
       "|---|---|---|---|---|---|\n",
       "| AGUASCALIENTES                                                     | UNIVERSIDAD AUTONOMA DE AGUASCALIENTES                             | 239                                                                | 84                                                                 | 67.52                                                              | 2017                                                               |\n",
       "| AGUASCALIENTES                                                     | UNIVERSIDAD CUAUHTEMOC PLANTEL AGUASCALIENTES                      |  72                                                                |  9                                                                 | 63.81                                                              | 2017                                                               |\n",
       "| BAJA CALIFORNIA                                                    | CENTRO DE ESTUDIOS UNIVERSITARIOS XOCHICALCO UNIDAD ENSENADA       | 247                                                                | 48                                                                 | 61.16                                                              | 2017                                                               |\n",
       "| BAJA CALIFORNIA                                                    | CENTRO DE ESTUDIOS UNIVERSITARIOS XOCHICALCO UNIDAD TIJUANA        | 152                                                                | 30                                                                 | 62.48                                                              | 2017                                                               |\n",
       "| BAJA CALIFORNIA                                                    | UNIVERSIDAD AUTONOMA DE BAJA CALIFORNIA UNIDAD VALLE DE LAS PALMAS | 135                                                                | 16                                                                 | 62.70                                                              | 2017                                                               |\n",
       "| BAJA CALIFORNIA                                                    | UNIVERSIDAD AUTONOMA DE BAJA CALIFORNIA UNIDAD ENSENADA            | 188                                                                | 55                                                                 | 64.88                                                              | 2017                                                               |\n",
       "\n"
      ],
      "text/plain": [
       "  ï..ENTIDAD.FEDERATIVA\n",
       "1 AGUASCALIENTES       \n",
       "2 AGUASCALIENTES       \n",
       "3 BAJA CALIFORNIA      \n",
       "4 BAJA CALIFORNIA      \n",
       "5 BAJA CALIFORNIA      \n",
       "6 BAJA CALIFORNIA      \n",
       "  FACULTAD.O.ESCUELA.DE.MEDICINA                                    \n",
       "1 UNIVERSIDAD AUTONOMA DE AGUASCALIENTES                            \n",
       "2 UNIVERSIDAD CUAUHTEMOC PLANTEL AGUASCALIENTES                     \n",
       "3 CENTRO DE ESTUDIOS UNIVERSITARIOS XOCHICALCO UNIDAD ENSENADA      \n",
       "4 CENTRO DE ESTUDIOS UNIVERSITARIOS XOCHICALCO UNIDAD TIJUANA       \n",
       "5 UNIVERSIDAD AUTONOMA DE BAJA CALIFORNIA UNIDAD VALLE DE LAS PALMAS\n",
       "6 UNIVERSIDAD AUTONOMA DE BAJA CALIFORNIA UNIDAD ENSENADA           \n",
       "  SUSTENTANTES SELECCIONADOS PROMEDIO.GENERAL AGNO\n",
       "1 239          84            67.52            2017\n",
       "2  72           9            63.81            2017\n",
       "3 247          48            61.16            2017\n",
       "4 152          30            62.48            2017\n",
       "5 135          16            62.70            2017\n",
       "6 188          55            64.88            2017"
      ]
     },
     "metadata": {},
     "output_type": "display_data"
    }
   ],
   "source": [
    "head(datos)"
   ]
  },
  {
   "cell_type": "markdown",
   "metadata": {},
   "source": [
    "$$ efi = \\dfrac{seleccionados} {sustentantes} $$"
   ]
  },
  {
   "cell_type": "code",
   "execution_count": 3,
   "metadata": {},
   "outputs": [],
   "source": [
    "efi <- datos$SELECCIONADOS / datos$SUSTENTANTES"
   ]
  },
  {
   "cell_type": "code",
   "execution_count": 4,
   "metadata": {},
   "outputs": [
    {
     "data": {
      "text/html": [
       "<ol class=list-inline>\n",
       "\t<li>0.351464435146443</li>\n",
       "\t<li>0.125</li>\n",
       "\t<li>0.194331983805668</li>\n",
       "\t<li>0.197368421052632</li>\n",
       "\t<li>0.118518518518519</li>\n",
       "\t<li>0.292553191489362</li>\n",
       "</ol>\n"
      ],
      "text/latex": [
       "\\begin{enumerate*}\n",
       "\\item 0.351464435146443\n",
       "\\item 0.125\n",
       "\\item 0.194331983805668\n",
       "\\item 0.197368421052632\n",
       "\\item 0.118518518518519\n",
       "\\item 0.292553191489362\n",
       "\\end{enumerate*}\n"
      ],
      "text/markdown": [
       "1. 0.351464435146443\n",
       "2. 0.125\n",
       "3. 0.194331983805668\n",
       "4. 0.197368421052632\n",
       "5. 0.118518518518519\n",
       "6. 0.292553191489362\n",
       "\n",
       "\n"
      ],
      "text/plain": [
       "[1] 0.3514644 0.1250000 0.1943320 0.1973684 0.1185185 0.2925532"
      ]
     },
     "metadata": {},
     "output_type": "display_data"
    }
   ],
   "source": [
    "head (efi)"
   ]
  },
  {
   "cell_type": "markdown",
   "metadata": {},
   "source": [
    "##TAMAÑO DE UN VECTOR"
   ]
  },
  {
   "cell_type": "code",
   "execution_count": 5,
   "metadata": {},
   "outputs": [
    {
     "data": {
      "text/html": [
       "1378"
      ],
      "text/latex": [
       "1378"
      ],
      "text/markdown": [
       "1378"
      ],
      "text/plain": [
       "[1] 1378"
      ]
     },
     "metadata": {},
     "output_type": "display_data"
    }
   ],
   "source": [
    "length (efi)"
   ]
  },
  {
   "cell_type": "code",
   "execution_count": 6,
   "metadata": {},
   "outputs": [
    {
     "data": {
      "image/png": "[encoded data removed]",
      "text/plain": [
       "plot without title"
      ]
     },
     "metadata": {},
     "output_type": "display_data"
    }
   ],
   "source": [
    "boxplot (efi,horizontal=T)"
   ]
  },
  {
   "cell_type": "code",
   "execution_count": 7,
   "metadata": {},
   "outputs": [
    {
     "data": {
      "text/plain": [
       "   Min. 1st Qu.  Median    Mean 3rd Qu.    Max.    NA's \n",
       " 0.0000  0.1429  0.2156  0.2426  0.3075  1.0000      11 "
      ]
     },
     "metadata": {},
     "output_type": "display_data"
    }
   ],
   "source": [
    "summary (efi)"
   ]
  },
  {
   "cell_type": "markdown",
   "metadata": {},
   "source": [
    "como es de todo conocido la mediana y la media no coinciden la distribucion de los datos tiene sesgo como se muestra:"
   ]
  },
  {
   "cell_type": "code",
   "execution_count": 12,
   "metadata": {},
   "outputs": [
    {
     "data": {
      "image/png": "[encoded data removed]",
      "text/plain": [
       "Plot with title \"Frecuencia de eficiencias de en el ENARM\""
      ]
     },
     "metadata": {},
     "output_type": "display_data"
    }
   ],
   "source": [
    "hist (efi, main=\"Frecuencia de eficiencias de en el ENARM\",\n",
    "      col=\"pink\", border=\"purple\", labels=T, xlab=\"EFICIENCIA\", ylab=\"FRECUENCIAS\")"
   ]
  },
  {
   "cell_type": "code",
   "execution_count": 9,
   "metadata": {},
   "outputs": [
    {
     "data": {
      "text/html": [
       "0.215563506261181"
      ],
      "text/latex": [
       "0.215563506261181"
      ],
      "text/markdown": [
       "0.215563506261181"
      ],
      "text/plain": [
       "[1] 0.2155635"
      ]
     },
     "metadata": {},
     "output_type": "display_data"
    }
   ],
   "source": [
    "median (efi, na.rm = T)"
   ]
  },
  {
   "cell_type": "code",
   "execution_count": 10,
   "metadata": {},
   "outputs": [
    {
     "data": {
      "text/html": [
       "0.784"
      ],
      "text/latex": [
       "0.784"
      ],
      "text/markdown": [
       "0.784"
      ],
      "text/plain": [
       "[1] 0.784"
      ]
     },
     "metadata": {},
     "output_type": "display_data"
    }
   ],
   "source": [
    "1-0.216"
   ]
  },
  {
   "cell_type": "code",
   "execution_count": null,
   "metadata": {},
   "outputs": [],
   "source": []
  },
  {
   "cell_type": "code",
   "execution_count": null,
   "metadata": {},
   "outputs": [],
   "source": []
  },
  {
   "cell_type": "code",
   "execution_count": null,
   "metadata": {},
   "outputs": [],
   "source": []
  },
  {
   "cell_type": "code",
   "execution_count": null,
   "metadata": {},
   "outputs": [],
   "source": []
  },
  {
   "cell_type": "code",
   "execution_count": null,
   "metadata": {},
   "outputs": [],
   "source": []
  },
  {
   "cell_type": "code",
   "execution_count": null,
   "metadata": {},
   "outputs": [],
   "source": []
  },
  {
   "cell_type": "code",
   "execution_count": null,
   "metadata": {},
   "outputs": [],
   "source": []
  },
  {
   "cell_type": "code",
   "execution_count": null,
   "metadata": {},
   "outputs": [],
   "source": []
  }
 ],
 "metadata": {
  "kernelspec": {
   "display_name": "R",
   "language": "R",
   "name": "ir"
  },
  "language_info": {
   "codemirror_mode": "r",
   "file_extension": ".r",
   "mimetype": "text/x-r-source",
   "name": "R",
   "pygments_lexer": "r",
   "version": "3.6.0"
  }
 },
 "nbformat": 4,
 "nbformat_minor": 2
}
