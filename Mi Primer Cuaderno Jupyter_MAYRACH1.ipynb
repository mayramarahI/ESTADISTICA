{
 "cells": [
  {
   "cell_type": "markdown",
   "metadata": {},
   "source": [
    "# Generación de números aleatorios "
   ]
  },
  {
   "cell_type": "markdown",
   "metadata": {},
   "source": [
    "## La función rnorm(n,mean,sd) con distribución normal de los cuales sabemos sus medias y varianzas. Nos permite generar poblaciones o muestras con distribución normal, conocidas la media y la varianza. "
   ]
  },
  {
   "cell_type": "markdown",
   "metadata": {},
   "source": [
    "<img src=\"https://i.ibb.co/TYKrvJJ/NORMAL.jpg\" width=\"500\">"
   ]
  },
  {
   "cell_type": "markdown",
   "metadata": {},
   "source": [
    "## A continuación unicamente generaremos los numeros aleatorios sin indicar media y varianza"
   ]
  },
  {
   "cell_type": "code",
   "execution_count": 1,
   "metadata": {},
   "outputs": [],
   "source": [
    "X <- rnorm(30)"
   ]
  },
  {
   "cell_type": "code",
   "execution_count": 2,
   "metadata": {},
   "outputs": [
    {
     "data": {
      "text/html": [
       "<ol class=list-inline>\n",
       "\t<li>0.621819010509614</li>\n",
       "\t<li>0.165758103496784</li>\n",
       "\t<li>0.125734177351937</li>\n",
       "\t<li>1.59366909905296</li>\n",
       "\t<li>-1.24682841149864</li>\n",
       "\t<li>0.233861739439755</li>\n",
       "\t<li>-1.13926043260437</li>\n",
       "\t<li>-0.290210566713695</li>\n",
       "\t<li>-0.731629946080041</li>\n",
       "\t<li>-0.982151968894259</li>\n",
       "\t<li>-0.0717930084518413</li>\n",
       "\t<li>-0.191583877486292</li>\n",
       "\t<li>0.64183485939108</li>\n",
       "\t<li>0.836710302461943</li>\n",
       "\t<li>-0.523481481048819</li>\n",
       "\t<li>0.491595803780318</li>\n",
       "\t<li>1.42828847150587</li>\n",
       "\t<li>-0.421402992842863</li>\n",
       "\t<li>1.04687899956244</li>\n",
       "\t<li>-1.23829703099207</li>\n",
       "\t<li>-0.61649868261415</li>\n",
       "\t<li>0.669078310171005</li>\n",
       "\t<li>0.175474226668904</li>\n",
       "\t<li>-1.68727737527506</li>\n",
       "\t<li>0.674542381612913</li>\n",
       "\t<li>-0.558323390696697</li>\n",
       "\t<li>-0.202406231053296</li>\n",
       "\t<li>-1.49515554420131</li>\n",
       "\t<li>-0.309240968367158</li>\n",
       "\t<li>0.993904711624932</li>\n",
       "</ol>\n"
      ],
      "text/latex": [
       "\\begin{enumerate*}\n",
       "\\item 0.621819010509614\n",
       "\\item 0.165758103496784\n",
       "\\item 0.125734177351937\n",
       "\\item 1.59366909905296\n",
       "\\item -1.24682841149864\n",
       "\\item 0.233861739439755\n",
       "\\item -1.13926043260437\n",
       "\\item -0.290210566713695\n",
       "\\item -0.731629946080041\n",
       "\\item -0.982151968894259\n",
       "\\item -0.0717930084518413\n",
       "\\item -0.191583877486292\n",
       "\\item 0.64183485939108\n",
       "\\item 0.836710302461943\n",
       "\\item -0.523481481048819\n",
       "\\item 0.491595803780318\n",
       "\\item 1.42828847150587\n",
       "\\item -0.421402992842863\n",
       "\\item 1.04687899956244\n",
       "\\item -1.23829703099207\n",
       "\\item -0.61649868261415\n",
       "\\item 0.669078310171005\n",
       "\\item 0.175474226668904\n",
       "\\item -1.68727737527506\n",
       "\\item 0.674542381612913\n",
       "\\item -0.558323390696697\n",
       "\\item -0.202406231053296\n",
       "\\item -1.49515554420131\n",
       "\\item -0.309240968367158\n",
       "\\item 0.993904711624932\n",
       "\\end{enumerate*}\n"
      ],
      "text/markdown": [
       "1. 0.621819010509614\n",
       "2. 0.165758103496784\n",
       "3. 0.125734177351937\n",
       "4. 1.59366909905296\n",
       "5. -1.24682841149864\n",
       "6. 0.233861739439755\n",
       "7. -1.13926043260437\n",
       "8. -0.290210566713695\n",
       "9. -0.731629946080041\n",
       "10. -0.982151968894259\n",
       "11. -0.0717930084518413\n",
       "12. -0.191583877486292\n",
       "13. 0.64183485939108\n",
       "14. 0.836710302461943\n",
       "15. -0.523481481048819\n",
       "16. 0.491595803780318\n",
       "17. 1.42828847150587\n",
       "18. -0.421402992842863\n",
       "19. 1.04687899956244\n",
       "20. -1.23829703099207\n",
       "21. -0.61649868261415\n",
       "22. 0.669078310171005\n",
       "23. 0.175474226668904\n",
       "24. -1.68727737527506\n",
       "25. 0.674542381612913\n",
       "26. -0.558323390696697\n",
       "27. -0.202406231053296\n",
       "28. -1.49515554420131\n",
       "29. -0.309240968367158\n",
       "30. 0.993904711624932\n",
       "\n",
       "\n"
      ],
      "text/plain": [
       " [1]  0.62181901  0.16575810  0.12573418  1.59366910 -1.24682841  0.23386174\n",
       " [7] -1.13926043 -0.29021057 -0.73162995 -0.98215197 -0.07179301 -0.19158388\n",
       "[13]  0.64183486  0.83671030 -0.52348148  0.49159580  1.42828847 -0.42140299\n",
       "[19]  1.04687900 -1.23829703 -0.61649868  0.66907831  0.17547423 -1.68727738\n",
       "[25]  0.67454238 -0.55832339 -0.20240623 -1.49515554 -0.30924097  0.99390471"
      ]
     },
     "metadata": {},
     "output_type": "display_data"
    }
   ],
   "source": [
    "X"
   ]
  },
  {
   "cell_type": "code",
   "execution_count": 3,
   "metadata": {},
   "outputs": [
    {
     "data": {
      "text/plain": [
       "    Min.  1st Qu.   Median     Mean  3rd Qu.     Max. \n",
       "-1.68728 -0.60195 -0.13169 -0.06688  0.63683  1.59367 "
      ]
     },
     "metadata": {},
     "output_type": "display_data"
    }
   ],
   "source": [
    "summary (X)"
   ]
  },
  {
   "cell_type": "code",
   "execution_count": 4,
   "metadata": {},
   "outputs": [
    {
     "data": {
      "image/png": "[encoded data removed]",
      "text/plain": [
       "Plot with title \"Histogram of X\""
      ]
     },
     "metadata": {},
     "output_type": "display_data"
    }
   ],
   "source": [
    "hist(X)"
   ]
  },
  {
   "cell_type": "code",
   "execution_count": 5,
   "metadata": {},
   "outputs": [
    {
     "data": {
      "image/png": "[encoded data removed]",
      "text/plain": [
       "Plot with title \"Histogram of X\""
      ]
     },
     "metadata": {},
     "output_type": "display_data"
    }
   ],
   "source": [
    "hist(X,col=\"blue\")"
   ]
  },
  {
   "cell_type": "markdown",
   "metadata": {},
   "source": [
    "## END"
   ]
  }
 ],
 "metadata": {
  "kernelspec": {
   "display_name": "R",
   "language": "R",
   "name": "ir"
  },
  "language_info": {
   "codemirror_mode": "r",
   "file_extension": ".r",
   "mimetype": "text/x-r-source",
   "name": "R",
   "pygments_lexer": "r",
   "version": "3.6.0"
  }
 },
 "nbformat": 4,
 "nbformat_minor": 2
}
