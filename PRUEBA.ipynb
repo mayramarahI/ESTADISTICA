{
 "cells": [
  {
   "cell_type": "markdown",
   "metadata": {},
   "source": [
    "<img src=\"https://ibb.co/9HJstNH\" width=\"200\">"
   ]
  },
  {
   "cell_type": "markdown",
   "metadata": {},
   "source": [
    "# EJEMPLO DE PRUEBA"
   ]
  },
  {
   "cell_type": "code",
   "execution_count": 1,
   "metadata": {},
   "outputs": [],
   "source": [
    "numAleatorios <- runif(n = 30,min = 100,max = 500)"
   ]
  },
  {
   "cell_type": "code",
   "execution_count": 2,
   "metadata": {},
   "outputs": [
    {
     "data": {
      "text/html": [
       "<ol class=list-inline>\n",
       "\t<li>471.906301751733</li>\n",
       "\t<li>284.552692063153</li>\n",
       "\t<li>268.55824906379</li>\n",
       "\t<li>261.269093398005</li>\n",
       "\t<li>286.956697329879</li>\n",
       "\t<li>154.179721977562</li>\n",
       "</ol>\n"
      ],
      "text/latex": [
       "\\begin{enumerate*}\n",
       "\\item 471.906301751733\n",
       "\\item 284.552692063153\n",
       "\\item 268.55824906379\n",
       "\\item 261.269093398005\n",
       "\\item 286.956697329879\n",
       "\\item 154.179721977562\n",
       "\\end{enumerate*}\n"
      ],
      "text/markdown": [
       "1. 471.906301751733\n",
       "2. 284.552692063153\n",
       "3. 268.55824906379\n",
       "4. 261.269093398005\n",
       "5. 286.956697329879\n",
       "6. 154.179721977562\n",
       "\n",
       "\n"
      ],
      "text/plain": [
       "[1] 471.9063 284.5527 268.5582 261.2691 286.9567 154.1797"
      ]
     },
     "metadata": {},
     "output_type": "display_data"
    }
   ],
   "source": [
    "head(numAleatorios)"
   ]
  },
  {
   "cell_type": "code",
   "execution_count": 3,
   "metadata": {},
   "outputs": [
    {
     "data": {
      "text/plain": [
       "   Min. 1st Qu.  Median    Mean 3rd Qu.    Max. \n",
       "  113.8   199.1   285.8   292.4   389.8   471.9 "
      ]
     },
     "metadata": {},
     "output_type": "display_data"
    }
   ],
   "source": [
    "summary(numAleatorios)"
   ]
  },
  {
   "cell_type": "code",
   "execution_count": 4,
   "metadata": {},
   "outputs": [
    {
     "data": {
      "image/png": "[encoded data removed]",
      "text/plain": [
       "Plot with title \"Dist. Uniforme\""
      ]
     },
     "metadata": {},
     "output_type": "display_data"
    }
   ],
   "source": [
    "hist(numAleatorios, main=\"Dist. Uniforme\", col=\"lightpink\", border=\"white\")"
   ]
  },
  {
   "cell_type": "code",
   "execution_count": null,
   "metadata": {},
   "outputs": [],
   "source": []
  }
 ],
 "metadata": {
  "kernelspec": {
   "display_name": "R",
   "language": "R",
   "name": "ir"
  },
  "language_info": {
   "codemirror_mode": "r",
   "file_extension": ".r",
   "mimetype": "text/x-r-source",
   "name": "R",
   "pygments_lexer": "r",
   "version": "3.6.0"
  }
 },
 "nbformat": 4,
 "nbformat_minor": 2
}
