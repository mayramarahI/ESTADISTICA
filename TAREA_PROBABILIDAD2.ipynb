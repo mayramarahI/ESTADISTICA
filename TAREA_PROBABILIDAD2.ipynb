{
 "cells": [
  {
   "cell_type": "markdown",
   "metadata": {},
   "source": [
    "## TAREA: ¿Cuantás veces es necesario que un medico cirujano presente el 50% para que tenga una probabilidad de éxito mayor al 50%?"
   ]
  },
  {
   "cell_type": "code",
   "execution_count": 1,
   "metadata": {},
   "outputs": [],
   "source": [
    "valores <- read.csv(\"EnarmMCH.csv\")"
   ]
  },
  {
   "cell_type": "code",
   "execution_count": 2,
   "metadata": {},
   "outputs": [
    {
     "data": {
      "text/html": [
       "<table>\n",
       "<thead><tr><th scope=col>ï..ENTIDAD.FEDERATIVA</th><th scope=col>FACULTAD.O.ESCUELA.DE.MEDICINA</th><th scope=col>SUSTENTANTES</th><th scope=col>SELECCIONADOS</th><th scope=col>PROMEDIO.GENERAL</th><th scope=col>AGNO</th></tr></thead>\n",
       "<tbody>\n",
       "\t<tr><td>AGUASCALIENTES                                              </td><td>UNIVERSIDAD AUTONOMA DE AGUASCALIENTES                      </td><td>239                                                         </td><td>84                                                          </td><td>67.52                                                       </td><td>2017                                                        </td></tr>\n",
       "\t<tr><td>AGUASCALIENTES                                              </td><td>UNIVERSIDAD CUAUHTEMOC PLANTEL AGUASCALIENTES               </td><td> 72                                                         </td><td> 9                                                          </td><td>63.81                                                       </td><td>2017                                                        </td></tr>\n",
       "\t<tr><td>BAJA CALIFORNIA                                             </td><td>CENTRO DE ESTUDIOS UNIVERSITARIOS XOCHICALCO UNIDAD ENSENADA</td><td>247                                                         </td><td>48                                                          </td><td>61.16                                                       </td><td>2017                                                        </td></tr>\n",
       "</tbody>\n",
       "</table>\n"
      ],
      "text/latex": [
       "\\begin{tabular}{r|llllll}\n",
       " ï..ENTIDAD.FEDERATIVA & FACULTAD.O.ESCUELA.DE.MEDICINA & SUSTENTANTES & SELECCIONADOS & PROMEDIO.GENERAL & AGNO\\\\\n",
       "\\hline\n",
       "\t AGUASCALIENTES                                               & UNIVERSIDAD AUTONOMA DE AGUASCALIENTES                       & 239                                                          & 84                                                           & 67.52                                                        & 2017                                                        \\\\\n",
       "\t AGUASCALIENTES                                               & UNIVERSIDAD CUAUHTEMOC PLANTEL AGUASCALIENTES                &  72                                                          &  9                                                           & 63.81                                                        & 2017                                                        \\\\\n",
       "\t BAJA CALIFORNIA                                              & CENTRO DE ESTUDIOS UNIVERSITARIOS XOCHICALCO UNIDAD ENSENADA & 247                                                          & 48                                                           & 61.16                                                        & 2017                                                        \\\\\n",
       "\\end{tabular}\n"
      ],
      "text/markdown": [
       "\n",
       "| ï..ENTIDAD.FEDERATIVA | FACULTAD.O.ESCUELA.DE.MEDICINA | SUSTENTANTES | SELECCIONADOS | PROMEDIO.GENERAL | AGNO |\n",
       "|---|---|---|---|---|---|\n",
       "| AGUASCALIENTES                                               | UNIVERSIDAD AUTONOMA DE AGUASCALIENTES                       | 239                                                          | 84                                                           | 67.52                                                        | 2017                                                         |\n",
       "| AGUASCALIENTES                                               | UNIVERSIDAD CUAUHTEMOC PLANTEL AGUASCALIENTES                |  72                                                          |  9                                                           | 63.81                                                        | 2017                                                         |\n",
       "| BAJA CALIFORNIA                                              | CENTRO DE ESTUDIOS UNIVERSITARIOS XOCHICALCO UNIDAD ENSENADA | 247                                                          | 48                                                           | 61.16                                                        | 2017                                                         |\n",
       "\n"
      ],
      "text/plain": [
       "  ï..ENTIDAD.FEDERATIVA\n",
       "1 AGUASCALIENTES       \n",
       "2 AGUASCALIENTES       \n",
       "3 BAJA CALIFORNIA      \n",
       "  FACULTAD.O.ESCUELA.DE.MEDICINA                               SUSTENTANTES\n",
       "1 UNIVERSIDAD AUTONOMA DE AGUASCALIENTES                       239         \n",
       "2 UNIVERSIDAD CUAUHTEMOC PLANTEL AGUASCALIENTES                 72         \n",
       "3 CENTRO DE ESTUDIOS UNIVERSITARIOS XOCHICALCO UNIDAD ENSENADA 247         \n",
       "  SELECCIONADOS PROMEDIO.GENERAL AGNO\n",
       "1 84            67.52            2017\n",
       "2  9            63.81            2017\n",
       "3 48            61.16            2017"
      ]
     },
     "metadata": {},
     "output_type": "display_data"
    }
   ],
   "source": [
    "head(valores,3)"
   ]
  },
  {
   "cell_type": "markdown",
   "metadata": {},
   "source": [
    "## VAMOS AGREGAR LA EFICIENCIA"
   ]
  },
  {
   "cell_type": "code",
   "execution_count": 21,
   "metadata": {},
   "outputs": [],
   "source": [
    "#eficiencia <- valores$SELECCIONADOS / valores$SUSTENTANTES con el gato no se ejecuta la orden"
   ]
  },
  {
   "cell_type": "code",
   "execution_count": 22,
   "metadata": {},
   "outputs": [],
   "source": [
    "valores$eficiencia <- valores$SELECCIONADOS / valores$SUSTENTANTES"
   ]
  },
  {
   "cell_type": "code",
   "execution_count": 24,
   "metadata": {},
   "outputs": [],
   "source": [
    "valores <- valores[!is.na(valores$eficiencia),] #con esto quitamos los nulos"
   ]
  },
  {
   "cell_type": "code",
   "execution_count": 29,
   "metadata": {},
   "outputs": [
    {
     "data": {
      "text/html": [
       "0.215563506261181"
      ],
      "text/latex": [
       "0.215563506261181"
      ],
      "text/markdown": [
       "0.215563506261181"
      ],
      "text/plain": [
       "[1] 0.2155635"
      ]
     },
     "metadata": {},
     "output_type": "display_data"
    }
   ],
   "source": [
    "p <- median(valores$eficiencia)\n",
    "p"
   ]
  },
  {
   "cell_type": "code",
   "execution_count": 31,
   "metadata": {},
   "outputs": [
    {
     "data": {
      "text/html": [
       "0.216"
      ],
      "text/latex": [
       "0.216"
      ],
      "text/markdown": [
       "0.216"
      ],
      "text/plain": [
       "[1] 0.216"
      ]
     },
     "metadata": {},
     "output_type": "display_data"
    },
    {
     "data": {
      "text/html": [
       "0.784"
      ],
      "text/latex": [
       "0.784"
      ],
      "text/markdown": [
       "0.784"
      ],
      "text/plain": [
       "[1] 0.784"
      ]
     },
     "metadata": {},
     "output_type": "display_data"
    }
   ],
   "source": [
    "p <- round(p,3)\n",
    "p\n",
    "q <- 1-p\n",
    "q"
   ]
  },
  {
   "cell_type": "code",
   "execution_count": 25,
   "metadata": {},
   "outputs": [
    {
     "data": {
      "text/plain": [
       "   Min. 1st Qu.  Median    Mean 3rd Qu.    Max.    NA's \n",
       " 0.0000  0.1429  0.2156  0.2426  0.3075  1.0000      11 "
      ]
     },
     "metadata": {},
     "output_type": "display_data"
    }
   ],
   "source": [
    "summary (eficiencia)"
   ]
  },
  {
   "cell_type": "code",
   "execution_count": 7,
   "metadata": {},
   "outputs": [
    {
     "data": {
      "text/html": [
       "0.215563506261181"
      ],
      "text/latex": [
       "0.215563506261181"
      ],
      "text/markdown": [
       "0.215563506261181"
      ],
      "text/plain": [
       "[1] 0.2155635"
      ]
     },
     "metadata": {},
     "output_type": "display_data"
    }
   ],
   "source": [
    "median (eficiencia, na.rm = T)"
   ]
  },
  {
   "cell_type": "markdown",
   "metadata": {},
   "source": [
    "**CARAMBA!** Hay datos nulos en mi archivo y voy a encontrarlos"
   ]
  },
  {
   "cell_type": "code",
   "execution_count": 8,
   "metadata": {},
   "outputs": [
    {
     "data": {
      "text/html": [
       "<table>\n",
       "<thead><tr><th scope=col>ï..ENTIDAD.FEDERATIVA</th><th scope=col>FACULTAD.O.ESCUELA.DE.MEDICINA</th><th scope=col>SUSTENTANTES</th><th scope=col>SELECCIONADOS</th><th scope=col>PROMEDIO.GENERAL</th><th scope=col>AGNO</th><th scope=col>eficiencia</th></tr></thead>\n",
       "<tbody>\n",
       "\t<tr><td>AGUASCALIENTES                                                    </td><td>UNIVERSIDAD AUTONOMA DE AGUASCALIENTES                            </td><td>239                                                               </td><td>84                                                                </td><td>67.52                                                             </td><td>2017                                                              </td><td>0.3514644                                                         </td></tr>\n",
       "\t<tr><td>AGUASCALIENTES                                                    </td><td>UNIVERSIDAD CUAUHTEMOC PLANTEL AGUASCALIENTES                     </td><td> 72                                                               </td><td> 9                                                                </td><td>63.81                                                             </td><td>2017                                                              </td><td>0.1250000                                                         </td></tr>\n",
       "\t<tr><td>BAJA CALIFORNIA                                                   </td><td>CENTRO DE ESTUDIOS UNIVERSITARIOS XOCHICALCO UNIDAD ENSENADA      </td><td>247                                                               </td><td>48                                                                </td><td>61.16                                                             </td><td>2017                                                              </td><td>0.1943320                                                         </td></tr>\n",
       "\t<tr><td>BAJA CALIFORNIA                                                   </td><td>CENTRO DE ESTUDIOS UNIVERSITARIOS XOCHICALCO UNIDAD TIJUANA       </td><td>152                                                               </td><td>30                                                                </td><td>62.48                                                             </td><td>2017                                                              </td><td>0.1973684                                                         </td></tr>\n",
       "\t<tr><td>BAJA CALIFORNIA                                                   </td><td>UNIVERSIDAD AUTONOMA DE BAJA CALIFORNIA UNIDAD VALLE DE LAS PALMAS</td><td>135                                                               </td><td>16                                                                </td><td>62.70                                                             </td><td>2017                                                              </td><td>0.1185185                                                         </td></tr>\n",
       "\t<tr><td>BAJA CALIFORNIA                                                   </td><td>UNIVERSIDAD AUTONOMA DE BAJA CALIFORNIA UNIDAD ENSENADA           </td><td>188                                                               </td><td>55                                                                </td><td>64.88                                                             </td><td>2017                                                              </td><td>0.2925532                                                         </td></tr>\n",
       "</tbody>\n",
       "</table>\n"
      ],
      "text/latex": [
       "\\begin{tabular}{r|lllllll}\n",
       " ï..ENTIDAD.FEDERATIVA & FACULTAD.O.ESCUELA.DE.MEDICINA & SUSTENTANTES & SELECCIONADOS & PROMEDIO.GENERAL & AGNO & eficiencia\\\\\n",
       "\\hline\n",
       "\t AGUASCALIENTES                                                     & UNIVERSIDAD AUTONOMA DE AGUASCALIENTES                             & 239                                                                & 84                                                                 & 67.52                                                              & 2017                                                               & 0.3514644                                                         \\\\\n",
       "\t AGUASCALIENTES                                                     & UNIVERSIDAD CUAUHTEMOC PLANTEL AGUASCALIENTES                      &  72                                                                &  9                                                                 & 63.81                                                              & 2017                                                               & 0.1250000                                                         \\\\\n",
       "\t BAJA CALIFORNIA                                                    & CENTRO DE ESTUDIOS UNIVERSITARIOS XOCHICALCO UNIDAD ENSENADA       & 247                                                                & 48                                                                 & 61.16                                                              & 2017                                                               & 0.1943320                                                         \\\\\n",
       "\t BAJA CALIFORNIA                                                    & CENTRO DE ESTUDIOS UNIVERSITARIOS XOCHICALCO UNIDAD TIJUANA        & 152                                                                & 30                                                                 & 62.48                                                              & 2017                                                               & 0.1973684                                                         \\\\\n",
       "\t BAJA CALIFORNIA                                                    & UNIVERSIDAD AUTONOMA DE BAJA CALIFORNIA UNIDAD VALLE DE LAS PALMAS & 135                                                                & 16                                                                 & 62.70                                                              & 2017                                                               & 0.1185185                                                         \\\\\n",
       "\t BAJA CALIFORNIA                                                    & UNIVERSIDAD AUTONOMA DE BAJA CALIFORNIA UNIDAD ENSENADA            & 188                                                                & 55                                                                 & 64.88                                                              & 2017                                                               & 0.2925532                                                         \\\\\n",
       "\\end{tabular}\n"
      ],
      "text/markdown": [
       "\n",
       "| ï..ENTIDAD.FEDERATIVA | FACULTAD.O.ESCUELA.DE.MEDICINA | SUSTENTANTES | SELECCIONADOS | PROMEDIO.GENERAL | AGNO | eficiencia |\n",
       "|---|---|---|---|---|---|---|\n",
       "| AGUASCALIENTES                                                     | UNIVERSIDAD AUTONOMA DE AGUASCALIENTES                             | 239                                                                | 84                                                                 | 67.52                                                              | 2017                                                               | 0.3514644                                                          |\n",
       "| AGUASCALIENTES                                                     | UNIVERSIDAD CUAUHTEMOC PLANTEL AGUASCALIENTES                      |  72                                                                |  9                                                                 | 63.81                                                              | 2017                                                               | 0.1250000                                                          |\n",
       "| BAJA CALIFORNIA                                                    | CENTRO DE ESTUDIOS UNIVERSITARIOS XOCHICALCO UNIDAD ENSENADA       | 247                                                                | 48                                                                 | 61.16                                                              | 2017                                                               | 0.1943320                                                          |\n",
       "| BAJA CALIFORNIA                                                    | CENTRO DE ESTUDIOS UNIVERSITARIOS XOCHICALCO UNIDAD TIJUANA        | 152                                                                | 30                                                                 | 62.48                                                              | 2017                                                               | 0.1973684                                                          |\n",
       "| BAJA CALIFORNIA                                                    | UNIVERSIDAD AUTONOMA DE BAJA CALIFORNIA UNIDAD VALLE DE LAS PALMAS | 135                                                                | 16                                                                 | 62.70                                                              | 2017                                                               | 0.1185185                                                          |\n",
       "| BAJA CALIFORNIA                                                    | UNIVERSIDAD AUTONOMA DE BAJA CALIFORNIA UNIDAD ENSENADA            | 188                                                                | 55                                                                 | 64.88                                                              | 2017                                                               | 0.2925532                                                          |\n",
       "\n"
      ],
      "text/plain": [
       "  ï..ENTIDAD.FEDERATIVA\n",
       "1 AGUASCALIENTES       \n",
       "2 AGUASCALIENTES       \n",
       "3 BAJA CALIFORNIA      \n",
       "4 BAJA CALIFORNIA      \n",
       "5 BAJA CALIFORNIA      \n",
       "6 BAJA CALIFORNIA      \n",
       "  FACULTAD.O.ESCUELA.DE.MEDICINA                                    \n",
       "1 UNIVERSIDAD AUTONOMA DE AGUASCALIENTES                            \n",
       "2 UNIVERSIDAD CUAUHTEMOC PLANTEL AGUASCALIENTES                     \n",
       "3 CENTRO DE ESTUDIOS UNIVERSITARIOS XOCHICALCO UNIDAD ENSENADA      \n",
       "4 CENTRO DE ESTUDIOS UNIVERSITARIOS XOCHICALCO UNIDAD TIJUANA       \n",
       "5 UNIVERSIDAD AUTONOMA DE BAJA CALIFORNIA UNIDAD VALLE DE LAS PALMAS\n",
       "6 UNIVERSIDAD AUTONOMA DE BAJA CALIFORNIA UNIDAD ENSENADA           \n",
       "  SUSTENTANTES SELECCIONADOS PROMEDIO.GENERAL AGNO eficiencia\n",
       "1 239          84            67.52            2017 0.3514644 \n",
       "2  72           9            63.81            2017 0.1250000 \n",
       "3 247          48            61.16            2017 0.1943320 \n",
       "4 152          30            62.48            2017 0.1973684 \n",
       "5 135          16            62.70            2017 0.1185185 \n",
       "6 188          55            64.88            2017 0.2925532 "
      ]
     },
     "metadata": {},
     "output_type": "display_data"
    }
   ],
   "source": [
    "head(valores)"
   ]
  },
  {
   "cell_type": "code",
   "execution_count": 9,
   "metadata": {},
   "outputs": [
    {
     "data": {
      "text/html": [
       "<table>\n",
       "<thead><tr><th></th><th scope=col>ï..ENTIDAD.FEDERATIVA</th><th scope=col>FACULTAD.O.ESCUELA.DE.MEDICINA</th><th scope=col>SUSTENTANTES</th><th scope=col>SELECCIONADOS</th><th scope=col>PROMEDIO.GENERAL</th><th scope=col>AGNO</th><th scope=col>eficiencia</th></tr></thead>\n",
       "<tbody>\n",
       "\t<tr><th scope=row>134</th><td>CIUDAD DE MEXICO                                            </td><td>ESCUELA MEDICO MILITAR SEDENA                               </td><td> 0                                                          </td><td> 0                                                          </td><td> 0.00                                                       </td><td>2015                                                        </td><td>NaN                                                         </td></tr>\n",
       "\t<tr><th scope=row>233</th><td>CHIAPAS                                                     </td><td>UNIVERSIDAD PABLO GUARDADO CHAVEZ                           </td><td> 0                                                          </td><td> 0                                                          </td><td> 0.00                                                       </td><td>2016                                                        </td><td>NaN                                                         </td></tr>\n",
       "\t<tr><th scope=row>285</th><td>NAYARIT                                                     </td><td>INSTITUTO DE ESTUDIOS TECNOLOGICOS Y SUPERIORES DE MATATIPAC</td><td> 0                                                          </td><td> 0                                                          </td><td> 0.00                                                       </td><td>2016                                                        </td><td>NaN                                                         </td></tr>\n",
       "\t<tr><th scope=row>706</th><td>GUANAJUATO                                                  </td><td>UNIVERSIDAD LATINA DE MEXICO UNIDAD CELAYA                  </td><td>NA                                                          </td><td> 2                                                          </td><td>35.55                                                       </td><td>2008                                                        </td><td> NA                                                         </td></tr>\n",
       "\t<tr><th scope=row>992</th><td>CIUDAD DE MEXICO                                            </td><td>ESCUELA LIBRE DE HOMEOPATIA DE MEXICO                       </td><td> 1                                                          </td><td>NA                                                          </td><td>34.40                                                       </td><td>2003                                                        </td><td> NA                                                         </td></tr>\n",
       "\t<tr><th scope=row>1035</th><td>TAMAULIPAS                                                  </td><td>UNIVERSIDAD MEXICO AMERICANA DEL NORTE                      </td><td>22                                                          </td><td>NA                                                          </td><td>39.50                                                       </td><td>2003                                                        </td><td> NA                                                         </td></tr>\n",
       "\t<tr><th scope=row>1036</th><td>TAMAULIPAS                                                  </td><td>UNIVERSIDAD VALLE DEL BRAVO UNIDAD CIUDAD VICTORIA          </td><td>38                                                          </td><td>NA                                                          </td><td>34.10                                                       </td><td>2003                                                        </td><td> NA                                                         </td></tr>\n",
       "\t<tr><th scope=row>1063</th><td>CIUDAD DE MEXICO                                            </td><td>ESCUELA LIBRE DE HOMEOPATIA DE MEXICO                       </td><td> 1                                                          </td><td>NA                                                          </td><td>36.90                                                       </td><td>2004                                                        </td><td> NA                                                         </td></tr>\n",
       "\t<tr><th scope=row>1085</th><td>ESTADO DE MEXICO                                            </td><td>ESCUELA MEDICINA TOMINAGA NAKAMOTO                          </td><td>18                                                          </td><td>NA                                                          </td><td>37.55                                                       </td><td>2004                                                        </td><td> NA                                                         </td></tr>\n",
       "\t<tr><th scope=row>1270</th><td>CIUDAD DE MEXICO                                            </td><td>UNIVERSIDAD JUSTO SIERRA                                    </td><td>15                                                          </td><td>NA                                                          </td><td>39.98                                                       </td><td>2002                                                        </td><td> NA                                                         </td></tr>\n",
       "\t<tr><th scope=row>1336</th><td>CIUDAD DE MEXICO                                            </td><td>ESCUELA MEDICO NAVAL SECRETARIA DE MARINA ARMADA DE MEXICO  </td><td> 2                                                          </td><td>NA                                                          </td><td>45.53                                                       </td><td>2001                                                        </td><td> NA                                                         </td></tr>\n",
       "</tbody>\n",
       "</table>\n"
      ],
      "text/latex": [
       "\\begin{tabular}{r|lllllll}\n",
       "  & ï..ENTIDAD.FEDERATIVA & FACULTAD.O.ESCUELA.DE.MEDICINA & SUSTENTANTES & SELECCIONADOS & PROMEDIO.GENERAL & AGNO & eficiencia\\\\\n",
       "\\hline\n",
       "\t134 & CIUDAD DE MEXICO                                             & ESCUELA MEDICO MILITAR SEDENA                                &  0                                                           &  0                                                           &  0.00                                                        & 2015                                                         & NaN                                                         \\\\\n",
       "\t233 & CHIAPAS                                                      & UNIVERSIDAD PABLO GUARDADO CHAVEZ                            &  0                                                           &  0                                                           &  0.00                                                        & 2016                                                         & NaN                                                         \\\\\n",
       "\t285 & NAYARIT                                                      & INSTITUTO DE ESTUDIOS TECNOLOGICOS Y SUPERIORES DE MATATIPAC &  0                                                           &  0                                                           &  0.00                                                        & 2016                                                         & NaN                                                         \\\\\n",
       "\t706 & GUANAJUATO                                                   & UNIVERSIDAD LATINA DE MEXICO UNIDAD CELAYA                   & NA                                                           &  2                                                           & 35.55                                                        & 2008                                                         &  NA                                                         \\\\\n",
       "\t992 & CIUDAD DE MEXICO                                             & ESCUELA LIBRE DE HOMEOPATIA DE MEXICO                        &  1                                                           & NA                                                           & 34.40                                                        & 2003                                                         &  NA                                                         \\\\\n",
       "\t1035 & TAMAULIPAS                                                   & UNIVERSIDAD MEXICO AMERICANA DEL NORTE                       & 22                                                           & NA                                                           & 39.50                                                        & 2003                                                         &  NA                                                         \\\\\n",
       "\t1036 & TAMAULIPAS                                                   & UNIVERSIDAD VALLE DEL BRAVO UNIDAD CIUDAD VICTORIA           & 38                                                           & NA                                                           & 34.10                                                        & 2003                                                         &  NA                                                         \\\\\n",
       "\t1063 & CIUDAD DE MEXICO                                             & ESCUELA LIBRE DE HOMEOPATIA DE MEXICO                        &  1                                                           & NA                                                           & 36.90                                                        & 2004                                                         &  NA                                                         \\\\\n",
       "\t1085 & ESTADO DE MEXICO                                             & ESCUELA MEDICINA TOMINAGA NAKAMOTO                           & 18                                                           & NA                                                           & 37.55                                                        & 2004                                                         &  NA                                                         \\\\\n",
       "\t1270 & CIUDAD DE MEXICO                                             & UNIVERSIDAD JUSTO SIERRA                                     & 15                                                           & NA                                                           & 39.98                                                        & 2002                                                         &  NA                                                         \\\\\n",
       "\t1336 & CIUDAD DE MEXICO                                             & ESCUELA MEDICO NAVAL SECRETARIA DE MARINA ARMADA DE MEXICO   &  2                                                           & NA                                                           & 45.53                                                        & 2001                                                         &  NA                                                         \\\\\n",
       "\\end{tabular}\n"
      ],
      "text/markdown": [
       "\n",
       "| <!--/--> | ï..ENTIDAD.FEDERATIVA | FACULTAD.O.ESCUELA.DE.MEDICINA | SUSTENTANTES | SELECCIONADOS | PROMEDIO.GENERAL | AGNO | eficiencia |\n",
       "|---|---|---|---|---|---|---|---|\n",
       "| 134 | CIUDAD DE MEXICO                                             | ESCUELA MEDICO MILITAR SEDENA                                |  0                                                           |  0                                                           |  0.00                                                        | 2015                                                         | NaN                                                          |\n",
       "| 233 | CHIAPAS                                                      | UNIVERSIDAD PABLO GUARDADO CHAVEZ                            |  0                                                           |  0                                                           |  0.00                                                        | 2016                                                         | NaN                                                          |\n",
       "| 285 | NAYARIT                                                      | INSTITUTO DE ESTUDIOS TECNOLOGICOS Y SUPERIORES DE MATATIPAC |  0                                                           |  0                                                           |  0.00                                                        | 2016                                                         | NaN                                                          |\n",
       "| 706 | GUANAJUATO                                                   | UNIVERSIDAD LATINA DE MEXICO UNIDAD CELAYA                   | NA                                                           |  2                                                           | 35.55                                                        | 2008                                                         |  NA                                                          |\n",
       "| 992 | CIUDAD DE MEXICO                                             | ESCUELA LIBRE DE HOMEOPATIA DE MEXICO                        |  1                                                           | NA                                                           | 34.40                                                        | 2003                                                         |  NA                                                          |\n",
       "| 1035 | TAMAULIPAS                                                   | UNIVERSIDAD MEXICO AMERICANA DEL NORTE                       | 22                                                           | NA                                                           | 39.50                                                        | 2003                                                         |  NA                                                          |\n",
       "| 1036 | TAMAULIPAS                                                   | UNIVERSIDAD VALLE DEL BRAVO UNIDAD CIUDAD VICTORIA           | 38                                                           | NA                                                           | 34.10                                                        | 2003                                                         |  NA                                                          |\n",
       "| 1063 | CIUDAD DE MEXICO                                             | ESCUELA LIBRE DE HOMEOPATIA DE MEXICO                        |  1                                                           | NA                                                           | 36.90                                                        | 2004                                                         |  NA                                                          |\n",
       "| 1085 | ESTADO DE MEXICO                                             | ESCUELA MEDICINA TOMINAGA NAKAMOTO                           | 18                                                           | NA                                                           | 37.55                                                        | 2004                                                         |  NA                                                          |\n",
       "| 1270 | CIUDAD DE MEXICO                                             | UNIVERSIDAD JUSTO SIERRA                                     | 15                                                           | NA                                                           | 39.98                                                        | 2002                                                         |  NA                                                          |\n",
       "| 1336 | CIUDAD DE MEXICO                                             | ESCUELA MEDICO NAVAL SECRETARIA DE MARINA ARMADA DE MEXICO   |  2                                                           | NA                                                           | 45.53                                                        | 2001                                                         |  NA                                                          |\n",
       "\n"
      ],
      "text/plain": [
       "     ï..ENTIDAD.FEDERATIVA\n",
       "134  CIUDAD DE MEXICO     \n",
       "233  CHIAPAS              \n",
       "285  NAYARIT              \n",
       "706  GUANAJUATO           \n",
       "992  CIUDAD DE MEXICO     \n",
       "1035 TAMAULIPAS           \n",
       "1036 TAMAULIPAS           \n",
       "1063 CIUDAD DE MEXICO     \n",
       "1085 ESTADO DE MEXICO     \n",
       "1270 CIUDAD DE MEXICO     \n",
       "1336 CIUDAD DE MEXICO     \n",
       "     FACULTAD.O.ESCUELA.DE.MEDICINA                               SUSTENTANTES\n",
       "134  ESCUELA MEDICO MILITAR SEDENA                                 0          \n",
       "233  UNIVERSIDAD PABLO GUARDADO CHAVEZ                             0          \n",
       "285  INSTITUTO DE ESTUDIOS TECNOLOGICOS Y SUPERIORES DE MATATIPAC  0          \n",
       "706  UNIVERSIDAD LATINA DE MEXICO UNIDAD CELAYA                   NA          \n",
       "992  ESCUELA LIBRE DE HOMEOPATIA DE MEXICO                         1          \n",
       "1035 UNIVERSIDAD MEXICO AMERICANA DEL NORTE                       22          \n",
       "1036 UNIVERSIDAD VALLE DEL BRAVO UNIDAD CIUDAD VICTORIA           38          \n",
       "1063 ESCUELA LIBRE DE HOMEOPATIA DE MEXICO                         1          \n",
       "1085 ESCUELA MEDICINA TOMINAGA NAKAMOTO                           18          \n",
       "1270 UNIVERSIDAD JUSTO SIERRA                                     15          \n",
       "1336 ESCUELA MEDICO NAVAL SECRETARIA DE MARINA ARMADA DE MEXICO    2          \n",
       "     SELECCIONADOS PROMEDIO.GENERAL AGNO eficiencia\n",
       "134   0             0.00            2015 NaN       \n",
       "233   0             0.00            2016 NaN       \n",
       "285   0             0.00            2016 NaN       \n",
       "706   2            35.55            2008  NA       \n",
       "992  NA            34.40            2003  NA       \n",
       "1035 NA            39.50            2003  NA       \n",
       "1036 NA            34.10            2003  NA       \n",
       "1063 NA            36.90            2004  NA       \n",
       "1085 NA            37.55            2004  NA       \n",
       "1270 NA            39.98            2002  NA       \n",
       "1336 NA            45.53            2001  NA       "
      ]
     },
     "metadata": {},
     "output_type": "display_data"
    }
   ],
   "source": [
    "valores[is.na(valores$eficiencia),]"
   ]
  },
  {
   "cell_type": "markdown",
   "metadata": {},
   "source": [
    "## Probabilidad de aprobar"
   ]
  },
  {
   "cell_type": "code",
   "execution_count": 10,
   "metadata": {},
   "outputs": [],
   "source": [
    "Aprobar <- 0.216"
   ]
  },
  {
   "cell_type": "markdown",
   "metadata": {},
   "source": [
    "##modificamos los datos"
   ]
  },
  {
   "cell_type": "code",
   "execution_count": 11,
   "metadata": {},
   "outputs": [],
   "source": [
    "valores <- valores[!is.na(valores$eficiencia), ]"
   ]
  },
  {
   "cell_type": "markdown",
   "metadata": {},
   "source": [
    "## Probabilidad de reprobar"
   ]
  },
  {
   "cell_type": "code",
   "execution_count": 12,
   "metadata": {},
   "outputs": [
    {
     "data": {
      "text/html": [
       "0.784"
      ],
      "text/latex": [
       "0.784"
      ],
      "text/markdown": [
       "0.784"
      ],
      "text/plain": [
       "[1] 0.784"
      ]
     },
     "metadata": {},
     "output_type": "display_data"
    }
   ],
   "source": [
    "1-Aprobar"
   ]
  },
  {
   "cell_type": "code",
   "execution_count": 13,
   "metadata": {},
   "outputs": [],
   "source": [
    "Reprobar <- 0.784"
   ]
  },
  {
   "cell_type": "code",
   "execution_count": 14,
   "metadata": {},
   "outputs": [
    {
     "data": {
      "text/html": [
       "0.518109696"
      ],
      "text/latex": [
       "0.518109696"
      ],
      "text/markdown": [
       "0.518109696"
      ],
      "text/plain": [
       "[1] 0.5181097"
      ]
     },
     "metadata": {},
     "output_type": "display_data"
    }
   ],
   "source": [
    "k=3\n",
    "1-(0.784)**k"
   ]
  },
  {
   "cell_type": "code",
   "execution_count": 32,
   "metadata": {},
   "outputs": [
    {
     "data": {
      "text/html": [
       "0.169344"
      ],
      "text/latex": [
       "0.169344"
      ],
      "text/markdown": [
       "0.169344"
      ],
      "text/plain": [
       "[1] 0.169344"
      ]
     },
     "metadata": {},
     "output_type": "display_data"
    }
   ],
   "source": [
    "ra <- Reprobar*Aprobar\n",
    "ra"
   ]
  },
  {
   "cell_type": "code",
   "execution_count": 33,
   "metadata": {},
   "outputs": [
    {
     "data": {
      "text/html": [
       "0.132765696"
      ],
      "text/latex": [
       "0.132765696"
      ],
      "text/markdown": [
       "0.132765696"
      ],
      "text/plain": [
       "[1] 0.1327657"
      ]
     },
     "metadata": {},
     "output_type": "display_data"
    }
   ],
   "source": [
    "rra <- Reprobar*Reprobar*Aprobar\n",
    "rra"
   ]
  },
  {
   "cell_type": "code",
   "execution_count": 34,
   "metadata": {},
   "outputs": [
    {
     "data": {
      "text/html": [
       "0.518109696"
      ],
      "text/latex": [
       "0.518109696"
      ],
      "text/markdown": [
       "0.518109696"
      ],
      "text/plain": [
       "[1] 0.5181097"
      ]
     },
     "metadata": {},
     "output_type": "display_data"
    }
   ],
   "source": [
    "int <- Aprobar+ra+rra\n",
    "int"
   ]
  },
  {
   "cell_type": "markdown",
   "metadata": {},
   "source": [
    "## En tres intentos la probabilidad es mayor al 50%"
   ]
  },
  {
   "cell_type": "markdown",
   "metadata": {},
   "source": [
    "## El número de veces que un médico debe presentar su exámen es 4 veces para que tenga una probabilidad de exito mayor al 50%."
   ]
  },
  {
   "cell_type": "code",
   "execution_count": 17,
   "metadata": {},
   "outputs": [
    {
     "data": {
      "text/html": [
       "0.007900913664"
      ],
      "text/latex": [
       "0.007900913664"
      ],
      "text/markdown": [
       "0.007900913664"
      ],
      "text/plain": [
       "[1] 0.007900914"
      ]
     },
     "metadata": {},
     "output_type": "display_data"
    }
   ],
   "source": [
    "Reprobar*Aprobar*Aprobar*Aprobar"
   ]
  },
  {
   "cell_type": "code",
   "execution_count": 18,
   "metadata": {},
   "outputs": [
    {
     "data": {
      "text/html": [
       "0.028677390336"
      ],
      "text/latex": [
       "0.028677390336"
      ],
      "text/markdown": [
       "0.028677390336"
      ],
      "text/plain": [
       "[1] 0.02867739"
      ]
     },
     "metadata": {},
     "output_type": "display_data"
    }
   ],
   "source": [
    "Reprobar*Reprobar*Aprobar*Aprobar"
   ]
  },
  {
   "cell_type": "code",
   "execution_count": 19,
   "metadata": {},
   "outputs": [
    {
     "data": {
      "text/html": [
       "0.104088305664"
      ],
      "text/latex": [
       "0.104088305664"
      ],
      "text/markdown": [
       "0.104088305664"
      ],
      "text/plain": [
       "[1] 0.1040883"
      ]
     },
     "metadata": {},
     "output_type": "display_data"
    }
   ],
   "source": [
    "Reprobar*Reprobar*Aprobar*Reprobar"
   ]
  },
  {
   "cell_type": "code",
   "execution_count": 20,
   "metadata": {},
   "outputs": [
    {
     "data": {
      "text/html": [
       "0.104088305664"
      ],
      "text/latex": [
       "0.104088305664"
      ],
      "text/markdown": [
       "0.104088305664"
      ],
      "text/plain": [
       "[1] 0.1040883"
      ]
     },
     "metadata": {},
     "output_type": "display_data"
    }
   ],
   "source": [
    "Reprobar*Reprobar*Reprobar*Aprobar"
   ]
  },
  {
   "cell_type": "markdown",
   "metadata": {},
   "source": [
    "## La suma de estos 4 casos favorables de 8 casos posibles es: 0.244754915328 eficiencia cercana a la probabilidad de aprobar."
   ]
  }
 ],
 "metadata": {
  "kernelspec": {
   "display_name": "R",
   "language": "R",
   "name": "ir"
  },
  "language_info": {
   "codemirror_mode": "r",
   "file_extension": ".r",
   "mimetype": "text/x-r-source",
   "name": "R",
   "pygments_lexer": "r",
   "version": "3.6.0"
  }
 },
 "nbformat": 4,
 "nbformat_minor": 2
}
