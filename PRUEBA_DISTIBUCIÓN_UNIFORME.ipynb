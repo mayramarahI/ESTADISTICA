{
 "cells": [
  {
   "cell_type": "markdown",
   "metadata": {},
   "source": [
    "# La distribución Uniforme es el modelo (absolutamente) continuo más simple. Corresponde al caso de una variable aleatoria que sólo puede tomar valores comprendidos entre dos extremos a y b."
   ]
  },
  {
   "cell_type": "markdown",
   "metadata": {},
   "source": [
    "<img src=\"https://i.ibb.co/VShVXwc/DIST-uniforme.jpg\" width=\"500\">"
   ]
  },
  {
   "cell_type": "markdown",
   "metadata": {},
   "source": [
    "## La siguiente función mostrará la generación de numeros aleatorios para una distribución uniforme; es decir valores entre un mínimo y un máximo."
   ]
  },
  {
   "cell_type": "markdown",
   "metadata": {},
   "source": [
    "# EJEMPLO DE PRUEBA"
   ]
  },
  {
   "cell_type": "code",
   "execution_count": 5,
   "metadata": {},
   "outputs": [],
   "source": [
    "Num_Aleatorios <- runif(n = 30,min = 100,max = 500)"
   ]
  },
  {
   "cell_type": "code",
   "execution_count": 6,
   "metadata": {},
   "outputs": [
    {
     "data": {
      "text/html": [
       "<ol class=list-inline>\n",
       "\t<li>389.121058396995</li>\n",
       "\t<li>373.81143392995</li>\n",
       "\t<li>301.766868215054</li>\n",
       "\t<li>150.076521001756</li>\n",
       "\t<li>492.1960381791</li>\n",
       "\t<li>285.935677587986</li>\n",
       "</ol>\n"
      ],
      "text/latex": [
       "\\begin{enumerate*}\n",
       "\\item 389.121058396995\n",
       "\\item 373.81143392995\n",
       "\\item 301.766868215054\n",
       "\\item 150.076521001756\n",
       "\\item 492.1960381791\n",
       "\\item 285.935677587986\n",
       "\\end{enumerate*}\n"
      ],
      "text/markdown": [
       "1. 389.121058396995\n",
       "2. 373.81143392995\n",
       "3. 301.766868215054\n",
       "4. 150.076521001756\n",
       "5. 492.1960381791\n",
       "6. 285.935677587986\n",
       "\n",
       "\n"
      ],
      "text/plain": [
       "[1] 389.1211 373.8114 301.7669 150.0765 492.1960 285.9357"
      ]
     },
     "metadata": {},
     "output_type": "display_data"
    }
   ],
   "source": [
    "head(Num_Aleatorios)"
   ]
  },
  {
   "cell_type": "code",
   "execution_count": 7,
   "metadata": {},
   "outputs": [
    {
     "data": {
      "text/plain": [
       "   Min. 1st Qu.  Median    Mean 3rd Qu.    Max. \n",
       "  125.8   274.1   346.8   334.8   431.5   498.4 "
      ]
     },
     "metadata": {},
     "output_type": "display_data"
    }
   ],
   "source": [
    "summary(Num_Aleatorios)"
   ]
  },
  {
   "cell_type": "code",
   "execution_count": 8,
   "metadata": {},
   "outputs": [
    {
     "data": {
      "image/png": "[encoded data removed]",
      "text/plain": [
       "Plot with title \"Dist. Uniforme\""
      ]
     },
     "metadata": {},
     "output_type": "display_data"
    }
   ],
   "source": [
    "hist(Num_Aleatorios, main=\"Dist. Uniforme\", col=\"lightpink\", border=\"white\")"
   ]
  },
  {
   "cell_type": "markdown",
   "metadata": {},
   "source": [
    "## END"
   ]
  }
 ],
 "metadata": {
  "kernelspec": {
   "display_name": "R",
   "language": "R",
   "name": "ir"
  },
  "language_info": {
   "codemirror_mode": "r",
   "file_extension": ".r",
   "mimetype": "text/x-r-source",
   "name": "R",
   "pygments_lexer": "r",
   "version": "3.6.0"
  }
 },
 "nbformat": 4,
 "nbformat_minor": 2
}
